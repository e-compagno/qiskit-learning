{
 "cells": [
  {
   "metadata": {},
   "cell_type": "markdown",
   "source": [
    "# Basic of Quantum Information with Qiskit\n",
    "\n",
    "https://learning.quantum.ibm.com/course/basics-of-quantum-information/exam"
   ],
   "id": "cc3fa41c3f9973b8"
  },
  {
   "cell_type": "code",
   "id": "initial_id",
   "metadata": {
    "collapsed": true,
    "ExecuteTime": {
     "end_time": "2024-04-15T20:32:52.019162Z",
     "start_time": "2024-04-15T20:32:52.016487Z"
    }
   },
   "source": [
    "from qiskit.quantum_info import Statevector, DensityMatrix, Operator, entropy\n",
    "from qiskit.visualization import plot_histogram, array_to_latex\n",
    "from qiskit import QuantumCircuit\n",
    "from qiskit.converters import circuit_to_dag, dag_to_circuit\n",
    "import seaborn as sns\n",
    "import matplotlib.pyplot as plt\n",
    "import numpy as np\n",
    "from itertools import product\n",
    "from fractions import Fraction"
   ],
   "outputs": [],
   "execution_count": 74
  },
  {
   "metadata": {
    "ExecuteTime": {
     "end_time": "2024-04-15T20:32:52.061461Z",
     "start_time": "2024-04-15T20:32:52.059871Z"
    }
   },
   "cell_type": "code",
   "source": "## Check if matrices are stochastic ",
   "id": "13264fbbc24c0683",
   "outputs": [],
   "execution_count": 75
  },
  {
   "metadata": {
    "ExecuteTime": {
     "end_time": "2024-04-15T20:32:52.071078Z",
     "start_time": "2024-04-15T20:32:52.066563Z"
    }
   },
   "cell_type": "code",
   "source": [
    "matrices = []\n",
    "matrices.append(np.array([[1,0,0],\n",
    "                          [0,1,0],\n",
    "                          [0,0,-1]])\n",
    "           )\n",
    "\n",
    "matrices.append(np.array([[1/3.,1/3.,1/3.],\n",
    "                          [1/4.,5/12.,1/3.],\n",
    "                          [5/12.,1/3.,1/4.]])\n",
    "           )\n",
    "\n",
    "matrices.append(np.array([[0,1,0],\n",
    "                          [0,0,1],\n",
    "                          [1,0,0]]))\n",
    "\n",
    "def is_stochastic(mat: np.array) -> bool:\n",
    "    \"\"\" Check if a matrix is stochastic \"\"\"\n",
    "    if np.all(mat >= 0) and np.all(np.sum(mat, axis=0) == np.ones(mat.shape[0])):\n",
    "        return True\n",
    "    else:\n",
    "        return False\n",
    "    \n",
    "[is_stochastic(mat) for mat in matrices]\n",
    "\n"
   ],
   "id": "15c669977ab22819",
   "outputs": [
    {
     "data": {
      "text/plain": [
       "[False, False, True]"
      ]
     },
     "execution_count": 76,
     "metadata": {},
     "output_type": "execute_result"
    }
   ],
   "execution_count": 76
  },
  {
   "metadata": {
    "ExecuteTime": {
     "end_time": "2024-04-15T20:32:52.075006Z",
     "start_time": "2024-04-15T20:32:52.072507Z"
    }
   },
   "cell_type": "code",
   "source": "array_to_latex(matrices[0])",
   "id": "57cdf59b95026ac3",
   "outputs": [
    {
     "data": {
      "text/plain": [
       "<IPython.core.display.Latex object>"
      ],
      "text/latex": "$$\n\n\\begin{bmatrix}\n1 & 0 & 0  \\\\\n 0 & 1 & 0  \\\\\n 0 & 0 & -1  \\\\\n \\end{bmatrix}\n$$"
     },
     "execution_count": 77,
     "metadata": {},
     "output_type": "execute_result"
    }
   ],
   "execution_count": 77
  },
  {
   "metadata": {},
   "cell_type": "markdown",
   "source": "## Cartesian product form classical states",
   "id": "ab757ca90b2a0605"
  },
  {
   "metadata": {
    "ExecuteTime": {
     "end_time": "2024-04-15T20:32:52.079161Z",
     "start_time": "2024-04-15T20:32:52.075899Z"
    }
   },
   "cell_type": "code",
   "source": [
    "gamma = [\"♣︎\", \"♦︎\", \"♥︎\", \"♠︎\"]\n",
    "gamma_prod = list(product(gamma, gamma))\n",
    "gamma_prod"
   ],
   "id": "1e263db06cd245ba",
   "outputs": [
    {
     "data": {
      "text/plain": [
       "[('♣︎', '♣︎'),\n",
       " ('♣︎', '♦︎'),\n",
       " ('♣︎', '♥︎'),\n",
       " ('♣︎', '♠︎'),\n",
       " ('♦︎', '♣︎'),\n",
       " ('♦︎', '♦︎'),\n",
       " ('♦︎', '♥︎'),\n",
       " ('♦︎', '♠︎'),\n",
       " ('♥︎', '♣︎'),\n",
       " ('♥︎', '♦︎'),\n",
       " ('♥︎', '♥︎'),\n",
       " ('♥︎', '♠︎'),\n",
       " ('♠︎', '♣︎'),\n",
       " ('♠︎', '♦︎'),\n",
       " ('♠︎', '♥︎'),\n",
       " ('♠︎', '♠︎')]"
      ]
     },
     "execution_count": 78,
     "metadata": {},
     "output_type": "execute_result"
    }
   ],
   "execution_count": 78
  },
  {
   "metadata": {},
   "cell_type": "markdown",
   "source": "## Computing tensor product",
   "id": "aa887811443bbb92"
  },
  {
   "metadata": {
    "ExecuteTime": {
     "end_time": "2024-04-15T20:32:52.087385Z",
     "start_time": "2024-04-15T20:32:52.080397Z"
    }
   },
   "cell_type": "code",
   "source": [
    "u = Statevector([-2, 1], dims=2)\n",
    "v = Statevector([1, 0, 1], dims=3)\n",
    "w = Statevector([4, 1], dims=2)\n",
    "x = Statevector([1/2, 1/2, 1/2], dims=3)\n",
    "\n",
    "psi = u.tensor(v)-(2/3)*w.tensor(x)\n",
    "psi.draw('latex')"
   ],
   "id": "eca1e677f9d7ebe1",
   "outputs": [
    {
     "data": {
      "text/plain": [
       "<IPython.core.display.Latex object>"
      ],
      "text/latex": "$$\\begin{align}\n\n\n\\begin{bmatrix}\n- \\frac{10}{3} & - \\frac{4}{3} & - \\frac{10}{3} & \\frac{2}{3} & - \\frac{1}{3} & \\frac{2}{3}  \\\\\n \\end{bmatrix}\n\\\\\n\\text{dims=(3, 2)}\n\\end{align}$$"
     },
     "execution_count": 79,
     "metadata": {},
     "output_type": "execute_result"
    }
   ],
   "execution_count": 79
  },
  {
   "metadata": {},
   "cell_type": "markdown",
   "source": "## Compute partial standard basis measurement outcome\n",
   "id": "52b93d65088b3963"
  },
  {
   "metadata": {
    "ExecuteTime": {
     "end_time": "2024-04-15T20:32:52.100333Z",
     "start_time": "2024-04-15T20:32:52.088431Z"
    }
   },
   "cell_type": "code",
   "source": [
    "psi0 = (1/np.sqrt(3))*(\n",
    "    Statevector.from_label(\"0+-\")+\n",
    "    Statevector.from_label(\"100\")-\n",
    "    Statevector.from_label(\"111\")\n",
    ")\n",
    "psi0.draw('latex')"
   ],
   "id": "19fb38f4d1dfe951",
   "outputs": [
    {
     "data": {
      "text/plain": [
       "<IPython.core.display.Latex object>"
      ],
      "text/latex": "$$\\frac{\\sqrt{3}}{6} |000\\rangle- \\frac{\\sqrt{3}}{6} |001\\rangle+\\frac{\\sqrt{3}}{6} |010\\rangle- \\frac{\\sqrt{3}}{6} |011\\rangle+\\frac{\\sqrt{3}}{3} |100\\rangle- \\frac{\\sqrt{3}}{3} |111\\rangle$$"
     },
     "execution_count": 80,
     "metadata": {},
     "output_type": "execute_result"
    }
   ],
   "execution_count": 80
  },
  {
   "metadata": {
    "ExecuteTime": {
     "end_time": "2024-04-15T20:32:52.111405Z",
     "start_time": "2024-04-15T20:32:52.101896Z"
    }
   },
   "cell_type": "code",
   "source": [
    "# build the projector on state 0\n",
    "P0 = Statevector.from_label(\"0\")\n",
    "Unit = Operator(np.eye(2))\n",
    "Pr0 = Unit.tensor(P0.to_operator()).tensor(Unit)\n",
    "\n",
    "# State after the measurement\n",
    "psif = psi0.evolve(Pr0)\n",
    "p0 = np.sqrt(np.real(psif.inner(psif)))\n",
    "psifn = psif.copy() / np.sqrt(np.real(psif.inner(psif)))\n",
    "\n",
    "print(f\"Probabiliy to get 0: {np.round(p0**2, 2)}\")\n",
    "psifn.draw('latex')"
   ],
   "id": "3cd33b410edcec31",
   "outputs": [
    {
     "name": "stdout",
     "output_type": "stream",
     "text": [
      "Probabiliy to get 0: 0.5\n"
     ]
    },
    {
     "data": {
      "text/plain": [
       "<IPython.core.display.Latex object>"
      ],
      "text/latex": "$$\\frac{\\sqrt{6}}{6} |000\\rangle- \\frac{\\sqrt{6}}{6} |001\\rangle+\\frac{\\sqrt{6}}{3} |100\\rangle$$"
     },
     "execution_count": 81,
     "metadata": {},
     "output_type": "execute_result"
    }
   ],
   "execution_count": 81
  },
  {
   "metadata": {},
   "cell_type": "markdown",
   "source": "## Recognize entanglement in quantum state vectors\n",
   "id": "f6f3f1972fb9bf50"
  },
  {
   "metadata": {
    "ExecuteTime": {
     "end_time": "2024-04-15T20:32:52.118274Z",
     "start_time": "2024-04-15T20:32:52.111868Z"
    }
   },
   "cell_type": "code",
   "source": [
    "def qutrit(i: int) -> Statevector:\n",
    "    \"\"\" Returns a qutrit state \"\"\"\n",
    "    state_i = [1 if x == i else 0 for x in range(3)]\n",
    "    return Statevector(state_i, dims=3)\n",
    "\n",
    "psi1 = (1/np.sqrt(2))* (qutrit(0).tensor(qutrit(1)) + qutrit(2).tensor(qutrit(1)))\n",
    "\n",
    "psi1.draw('latex')"
   ],
   "id": "94ca615080e9bb99",
   "outputs": [
    {
     "data": {
      "text/plain": [
       "<IPython.core.display.Latex object>"
      ],
      "text/latex": "$$\\begin{align}\n\n\n\\begin{bmatrix}\n0 & \\frac{\\sqrt{2}}{2} & 0 & 0 & \\cdots & 0 & \\frac{\\sqrt{2}}{2} & 0  \\\\\n \\end{bmatrix}\n\\\\\n\\text{dims=(3, 3)}\n\\end{align}$$"
     },
     "execution_count": 82,
     "metadata": {},
     "output_type": "execute_result"
    }
   ],
   "execution_count": 82
  },
  {
   "metadata": {
    "ExecuteTime": {
     "end_time": "2024-04-15T20:32:52.122174Z",
     "start_time": "2024-04-15T20:32:52.119674Z"
    }
   },
   "cell_type": "code",
   "source": [
    "# Check for entanglement with Von Neumann entropy\n",
    "entropy(psi1)"
   ],
   "id": "1782b51530da3d6c",
   "outputs": [
    {
     "data": {
      "text/plain": [
       "0"
      ]
     },
     "execution_count": 83,
     "metadata": {},
     "output_type": "execute_result"
    }
   ],
   "execution_count": 83
  },
  {
   "metadata": {
    "ExecuteTime": {
     "end_time": "2024-04-15T20:32:52.128752Z",
     "start_time": "2024-04-15T20:32:52.122724Z"
    }
   },
   "cell_type": "code",
   "source": [
    "rho1 = DensityMatrix(psi1)\n",
    "rho1.draw('latex')"
   ],
   "id": "54146c6d156cc314",
   "outputs": [
    {
     "data": {
      "text/plain": [
       "<IPython.core.display.Latex object>"
      ],
      "text/latex": "$$\\begin{align}\n\n\n\\begin{bmatrix}\n0 & 0 & 0 & 0 & \\cdots & 0 & 0 & 0  \\\\\n 0 & \\frac{1}{2} & 0 & 0 & \\cdots & 0 & \\frac{1}{2} & 0  \\\\\n 0 & 0 & 0 & 0 & \\cdots & 0 & 0 & 0  \\\\\n 0 & 0 & 0 & 0 & \\cdots & 0 & 0 & 0  \\\\\n \\vdots & \\vdots & \\vdots & \\vdots & \\ddots & \\vdots & \\vdots & \\vdots \\\\\n 0 & 0 & 0 & 0 & \\cdots & 0 & 0 & 0  \\\\\n 0 & \\frac{1}{2} & 0 & 0 & \\cdots & 0 & \\frac{1}{2} & 0  \\\\\n 0 & 0 & 0 & 0 & \\cdots & 0 & 0 & 0  \\\\\n \\end{bmatrix}\n\\\\\n\\text{dims=(3, 3)}\n\\end{align}$$"
     },
     "execution_count": 84,
     "metadata": {},
     "output_type": "execute_result"
    }
   ],
   "execution_count": 84
  },
  {
   "metadata": {
    "ExecuteTime": {
     "end_time": "2024-04-15T20:32:52.132018Z",
     "start_time": "2024-04-15T20:32:52.129594Z"
    }
   },
   "cell_type": "code",
   "source": [
    "# trace of the density op.\n",
    "np.round(np.real(rho1.trace()), 2)"
   ],
   "id": "b9f6caaf7c0cf799",
   "outputs": [
    {
     "data": {
      "text/plain": [
       "1.0"
      ]
     },
     "execution_count": 85,
     "metadata": {},
     "output_type": "execute_result"
    }
   ],
   "execution_count": 85
  },
  {
   "metadata": {
    "ExecuteTime": {
     "end_time": "2024-04-15T20:32:52.147533Z",
     "start_time": "2024-04-15T20:32:52.142566Z"
    }
   },
   "cell_type": "code",
   "source": [
    "# The Tr(rho^2) can be computed easily in the basis of the eigenvectors. In this case, the state is indeed not entangled (can be factorised).\n",
    "display(array_to_latex(np.linalg.eigvals(rho1)))"
   ],
   "id": "44d89aa521c8479e",
   "outputs": [
    {
     "data": {
      "text/plain": [
       "<IPython.core.display.Latex object>"
      ],
      "text/latex": "$$\n\n\\begin{bmatrix}\n1 & 0 & 0 & 0 & \\cdots & 0 & 0 & 0  \\\\\n \\end{bmatrix}\n$$"
     },
     "metadata": {},
     "output_type": "display_data"
    }
   ],
   "execution_count": 86
  },
  {
   "metadata": {
    "ExecuteTime": {
     "end_time": "2024-04-15T20:32:52.181001Z",
     "start_time": "2024-04-15T20:32:52.152509Z"
    }
   },
   "cell_type": "code",
   "source": [
    "psi3 = (\n",
    "        qutrit(0).tensor(qutrit(1))\n",
    "        + 2*qutrit(0).tensor(qutrit(0))\n",
    "        + 2*qutrit(0).tensor(qutrit(1))\n",
    "        + qutrit(1).tensor(qutrit(2))\n",
    "        - 2 * qutrit(1).tensor(qutrit(0))\n",
    "        - 2 * qutrit(2).tensor(qutrit(2))\n",
    "        - qutrit(0).tensor(qutrit(2))\n",
    "        - qutrit(1).tensor(qutrit(1))\n",
    "        + 4* qutrit(2).tensor(qutrit(0))\n",
    ")/6.0\n",
    "psi3 = psi3.copy() / np.sqrt(psi3.inner(psi3))\n",
    "psi3.draw('latex')\n"
   ],
   "id": "e44139c775d509c6",
   "outputs": [
    {
     "data": {
      "text/plain": [
       "<IPython.core.display.Latex object>"
      ],
      "text/latex": "$$\\begin{align}\n\n\n\\begin{bmatrix}\n\\frac{\\sqrt{10}}{10} & 0.474341649 & -0.158113883 & - \\frac{\\sqrt{10}}{10} & \\cdots & \\frac{\\sqrt{10}}{5} & 0 & - \\frac{\\sqrt{10}}{10}  \\\\\n \\end{bmatrix}\n\\\\\n\\text{dims=(3, 3)}\n\\end{align}$$"
     },
     "execution_count": 87,
     "metadata": {},
     "output_type": "execute_result"
    }
   ],
   "execution_count": 87
  },
  {
   "metadata": {
    "ExecuteTime": {
     "end_time": "2024-04-15T20:32:52.185845Z",
     "start_time": "2024-04-15T20:32:52.182696Z"
    }
   },
   "cell_type": "code",
   "source": [
    "rho3 = DensityMatrix(psi3)\n",
    "np.round(np.real(rho3.trace()),2)"
   ],
   "id": "30b7c0c2fd8f5cc4",
   "outputs": [
    {
     "data": {
      "text/plain": [
       "1.0"
      ]
     },
     "execution_count": 88,
     "metadata": {},
     "output_type": "execute_result"
    }
   ],
   "execution_count": 88
  },
  {
   "metadata": {
    "ExecuteTime": {
     "end_time": "2024-04-15T20:32:52.189239Z",
     "start_time": "2024-04-15T20:32:52.186440Z"
    }
   },
   "cell_type": "code",
   "source": [
    "eig_rho3 = np.linalg.eigvals(DensityMatrix(psi3))\n",
    "np.round(np.real(sum(eig_rho3)), 2)"
   ],
   "id": "ac98510908063755",
   "outputs": [
    {
     "data": {
      "text/plain": [
       "1.0"
      ]
     },
     "execution_count": 89,
     "metadata": {},
     "output_type": "execute_result"
    }
   ],
   "execution_count": 89
  },
  {
   "metadata": {
    "ExecuteTime": {
     "end_time": "2024-04-15T20:32:52.194523Z",
     "start_time": "2024-04-15T20:32:52.192085Z"
    }
   },
   "cell_type": "code",
   "source": "np.round(np.real(sum(eig_rho3**2)), 2)",
   "id": "cf1b2661ea68f2fc",
   "outputs": [
    {
     "data": {
      "text/plain": [
       "1.0"
      ]
     },
     "execution_count": 90,
     "metadata": {},
     "output_type": "execute_result"
    }
   ],
   "execution_count": 90
  },
  {
   "metadata": {},
   "cell_type": "markdown",
   "source": "## Compute the output of a quantum circuit",
   "id": "301ae2414123e069"
  },
  {
   "metadata": {
    "ExecuteTime": {
     "end_time": "2024-04-15T20:32:52.234479Z",
     "start_time": "2024-04-15T20:32:52.195007Z"
    }
   },
   "cell_type": "code",
   "source": [
    "circuit = QuantumCircuit(2)\n",
    "psi0 = Statevector.from_label(\"10\")\n",
    "circuit.h(0)\n",
    "circuit.cx(0,1)\n",
    "circuit.z(1)\n",
    "circuit.cx(1,0)\n",
    "circuit.h(1)\n",
    "\n",
    "circuit.draw('mpl')"
   ],
   "id": "f4e8bda648eafa6d",
   "outputs": [
    {
     "data": {
      "text/plain": [
       "<Figure size 538.128x200.667 with 1 Axes>"
      ],
      "image/png": "[encoded data removed]"
     },
     "execution_count": 91,
     "metadata": {},
     "output_type": "execute_result"
    }
   ],
   "execution_count": 91
  },
  {
   "metadata": {
    "ExecuteTime": {
     "end_time": "2024-04-15T20:32:52.241030Z",
     "start_time": "2024-04-15T20:32:52.236152Z"
    }
   },
   "cell_type": "code",
   "source": [
    "psif = psi0.evolve(circuit)\n",
    "psif.draw('latex')"
   ],
   "id": "6ed08a171fb99de3",
   "outputs": [
    {
     "data": {
      "text/plain": [
       "<IPython.core.display.Latex object>"
      ],
      "text/latex": "$$ |11\\rangle$$"
     },
     "execution_count": 92,
     "metadata": {},
     "output_type": "execute_result"
    }
   ],
   "execution_count": 92
  },
  {
   "metadata": {},
   "cell_type": "markdown",
   "source": "## Compute the unitary matrix for a quantum circuit",
   "id": "c9e90a5008b4975b"
  },
  {
   "metadata": {
    "ExecuteTime": {
     "end_time": "2024-04-15T20:32:52.278378Z",
     "start_time": "2024-04-15T20:32:52.241828Z"
    }
   },
   "cell_type": "code",
   "source": [
    "circuit = QuantumCircuit(2)\n",
    "circuit.s(1)\n",
    "circuit.x(0)\n",
    "circuit.cx(1,0)\n",
    "circuit.h(0)\n",
    "circuit.h(1)\n",
    "\n",
    "circuit.draw('mpl')"
   ],
   "id": "f8b7891ee99520a",
   "outputs": [
    {
     "data": {
      "text/plain": [
       "<Figure size 370.906x200.667 with 1 Axes>"
      ],
      "image/png": "[encoded data removed]"
     },
     "execution_count": 93,
     "metadata": {},
     "output_type": "execute_result"
    }
   ],
   "execution_count": 93
  },
  {
   "metadata": {
    "ExecuteTime": {
     "end_time": "2024-04-15T20:32:52.291347Z",
     "start_time": "2024-04-15T20:32:52.279106Z"
    }
   },
   "cell_type": "code",
   "source": "Operator(circuit).draw('latex')",
   "id": "58fb6a4f2e62e987",
   "outputs": [
    {
     "data": {
      "text/plain": [
       "<IPython.core.display.Latex object>"
      ],
      "text/latex": "$$\n\n\\begin{bmatrix}\n\\frac{1}{2} & \\frac{1}{2} & \\frac{i}{2} & \\frac{i}{2}  \\\\\n - \\frac{1}{2} & \\frac{1}{2} & \\frac{i}{2} & - \\frac{i}{2}  \\\\\n \\frac{1}{2} & \\frac{1}{2} & - \\frac{i}{2} & - \\frac{i}{2}  \\\\\n - \\frac{1}{2} & \\frac{1}{2} & - \\frac{i}{2} & \\frac{i}{2}  \\\\\n \\end{bmatrix}\n$$"
     },
     "execution_count": 94,
     "metadata": {},
     "output_type": "execute_result"
    }
   ],
   "execution_count": 94
  },
  {
   "metadata": {
    "ExecuteTime": {
     "end_time": "2024-04-15T20:32:52.389672Z",
     "start_time": "2024-04-15T20:32:52.291935Z"
    }
   },
   "cell_type": "code",
   "source": [
    "# Show operator at each layer\n",
    "dag = circuit_to_dag(circuit)\n",
    "for layer in dag.layers():\n",
    "    layer_as_circuit = dag_to_circuit(layer['graph'])\n",
    "    display(layer_as_circuit.draw('mpl'))\n",
    "    display(Operator(layer_as_circuit).draw('latex'))"
   ],
   "id": "84da624b88066491",
   "outputs": [
    {
     "data": {
      "text/plain": [
       "<Figure size 203.683x200.667 with 1 Axes>"
      ],
      "image/png": "[encoded data removed]"
     },
     "metadata": {},
     "output_type": "display_data"
    },
    {
     "data": {
      "text/plain": [
       "<IPython.core.display.Latex object>"
      ],
      "text/latex": "$$\n\n\\begin{bmatrix}\n0 & 1 & 0 & 0  \\\\\n 1 & 0 & 0 & 0  \\\\\n 0 & 0 & 0 & i  \\\\\n 0 & 0 & i & 0  \\\\\n \\end{bmatrix}\n$$"
     },
     "metadata": {},
     "output_type": "display_data"
    },
    {
     "data": {
      "text/plain": [
       "<Figure size 203.683x200.667 with 1 Axes>"
      ],
      "image/png": "[encoded data removed]"
     },
     "metadata": {},
     "output_type": "display_data"
    },
    {
     "data": {
      "text/plain": [
       "<IPython.core.display.Latex object>"
      ],
      "text/latex": "$$\n\n\\begin{bmatrix}\n1 & 0 & 0 & 0  \\\\\n 0 & 1 & 0 & 0  \\\\\n 0 & 0 & 0 & 1  \\\\\n 0 & 0 & 1 & 0  \\\\\n \\end{bmatrix}\n$$"
     },
     "metadata": {},
     "output_type": "display_data"
    },
    {
     "data": {
      "text/plain": [
       "<Figure size 203.683x200.667 with 1 Axes>"
      ],
      "image/png": "[encoded data removed]"
     },
     "metadata": {},
     "output_type": "display_data"
    },
    {
     "data": {
      "text/plain": [
       "<IPython.core.display.Latex object>"
      ],
      "text/latex": "$$\n\n\\begin{bmatrix}\n\\frac{1}{2} & \\frac{1}{2} & \\frac{1}{2} & \\frac{1}{2}  \\\\\n \\frac{1}{2} & - \\frac{1}{2} & \\frac{1}{2} & - \\frac{1}{2}  \\\\\n \\frac{1}{2} & \\frac{1}{2} & - \\frac{1}{2} & - \\frac{1}{2}  \\\\\n \\frac{1}{2} & - \\frac{1}{2} & - \\frac{1}{2} & \\frac{1}{2}  \\\\\n \\end{bmatrix}\n$$"
     },
     "metadata": {},
     "output_type": "display_data"
    }
   ],
   "execution_count": 95
  },
  {
   "metadata": {},
   "cell_type": "markdown",
   "source": "## Compute a nonstandard basis measurement outcome",
   "id": "80366cfee5f345e4"
  },
  {
   "metadata": {
    "ExecuteTime": {
     "end_time": "2024-04-15T20:32:52.398874Z",
     "start_time": "2024-04-15T20:32:52.391075Z"
    }
   },
   "cell_type": "code",
   "source": [
    "psi0 = (1/np.sqrt(3))* (Statevector.from_label(\"0\")+ np.sqrt(2.0)*Statevector.from_label(\"1\"))\n",
    "psi1 = (1/np.sqrt(3))* (np.sqrt(2.0)*Statevector.from_label(\"0\")+ -Statevector.from_label(\"1\"))\n",
    "\n",
    "phi = 1/np.sqrt(5.0)* Statevector.from_label(\"00\") - np.sqrt(2.0/5.0)* Statevector.from_label(\"01\") + np.sqrt(2.0/5.0)* Statevector.from_label(\"10\") -1/np.sqrt(5.0)* Statevector.from_label(\"11\")\n",
    "phi.draw('latex')\n"
   ],
   "id": "548022af698c628c",
   "outputs": [
    {
     "data": {
      "text/plain": [
       "<IPython.core.display.Latex object>"
      ],
      "text/latex": "$$\\frac{\\sqrt{5}}{5} |00\\rangle- \\frac{\\sqrt{10}}{5} |01\\rangle+\\frac{\\sqrt{10}}{5} |10\\rangle- \\frac{\\sqrt{5}}{5} |11\\rangle$$"
     },
     "execution_count": 96,
     "metadata": {},
     "output_type": "execute_result"
    }
   ],
   "execution_count": 96
  },
  {
   "metadata": {
    "ExecuteTime": {
     "end_time": "2024-04-15T20:32:52.409566Z",
     "start_time": "2024-04-15T20:32:52.399434Z"
    }
   },
   "cell_type": "code",
   "source": [
    "P0 = Operator(np.eye(2)).tensor(psi0.to_operator())\n",
    "P0.draw('latex')"
   ],
   "id": "266a2b89d3d958ec",
   "outputs": [
    {
     "data": {
      "text/plain": [
       "<IPython.core.display.Latex object>"
      ],
      "text/latex": "$$\n\n\\begin{bmatrix}\n\\frac{1}{3} & \\frac{\\sqrt{2}}{3} & 0 & 0  \\\\\n \\frac{\\sqrt{2}}{3} & \\frac{2}{3} & 0 & 0  \\\\\n 0 & 0 & \\frac{1}{3} & \\frac{\\sqrt{2}}{3}  \\\\\n 0 & 0 & \\frac{\\sqrt{2}}{3} & \\frac{2}{3}  \\\\\n \\end{bmatrix}\n$$"
     },
     "execution_count": 97,
     "metadata": {},
     "output_type": "execute_result"
    }
   ],
   "execution_count": 97
  },
  {
   "metadata": {
    "ExecuteTime": {
     "end_time": "2024-04-15T20:32:52.412066Z",
     "start_time": "2024-04-15T20:32:52.410199Z"
    }
   },
   "cell_type": "code",
   "source": [
    "# probability to get \n",
    "phif = phi.evolve(P0)\n",
    "p0 = Fraction(np.real(phif.inner(phif))).limit_denominator()\n",
    "print(f\"Probabiliy to get the outcome 0: {p0}\")"
   ],
   "id": "8630174de666a5dd",
   "outputs": [
    {
     "name": "stdout",
     "output_type": "stream",
     "text": [
      "Probabiliy to get the outcome 0: 1/15\n"
     ]
    }
   ],
   "execution_count": 98
  },
  {
   "metadata": {
    "ExecuteTime": {
     "end_time": "2024-04-15T20:32:52.414038Z",
     "start_time": "2024-04-15T20:32:52.412666Z"
    }
   },
   "cell_type": "code",
   "source": "",
   "id": "1da2024f31a47e11",
   "outputs": [],
   "execution_count": 98
  }
 ],
 "metadata": {
  "kernelspec": {
   "display_name": "qiskit-learning",
   "language": "python",
   "name": "qiskit-learning"
  },
  "language_info": {
   "codemirror_mode": {
    "name": "ipython",
    "version": 2
   },
   "file_extension": ".py",
   "mimetype": "text/x-python",
   "name": "python",
   "nbconvert_exporter": "python",
   "pygments_lexer": "ipython2",
   "version": "2.7.6"
  }
 },
 "nbformat": 4,
 "nbformat_minor": 5
}
